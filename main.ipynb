{
 "cells": [
  {
   "cell_type": "code",
   "execution_count": 1,
   "metadata": {},
   "outputs": [],
   "source": [
    "import cv2\n",
    "import os\n",
    "import random\n",
    "import mediapipe as mp"
   ]
  },
  {
   "cell_type": "code",
   "execution_count": 15,
   "metadata": {},
   "outputs": [],
   "source": [
    "# global variables\n",
    "rad = 5\n",
    "radiusImcrement = 3 # 8 for development purpose 3 for final\n",
    "pos = [100,100]\n",
    "OnOff = 1 # -1 means ball is not drawing and 1 means ball is drawing\n",
    "timer = 0\n",
    "timer1 = 0\n",
    "stumpsTopLeft = (300,300);\n",
    "stumpsBottomRight = (380,480);"
   ]
  },
  {
   "cell_type": "code",
   "execution_count": 24,
   "metadata": {},
   "outputs": [],
   "source": [
    "def drawBall(img,centerTuple,radi)->None:\n",
    "    cv2.circle(img,centerTuple,radi,(0,0,255),cv2.FILLED)\n",
    "\n",
    "def generateRandomCordinates():\n",
    "    return (random.randint(0,500),random.randint(0,450))\n",
    "\n",
    "def reset():\n",
    "    pos[0],pos[1] = generateRandomCordinates()\n",
    "    pass\n",
    "\n",
    "def drawStumps(img, topLeft, bottomRight):\n",
    "    cv2.rectangle(img,topLeft,bottomRight, (0,255,0), 5)\n",
    "\n",
    "def checkInStumps(centreTuple, onOff, topLeft, bottomRight):\n",
    "    if onOff == 1:\n",
    "        if centreTuple[0] > topLeft[0] and centreTuple[0] < bottomRight[0]:\n",
    "            if centreTuple[1] > topLeft[1] and centreTuple[1] < bottomRight[1]:\n",
    "                return True\n",
    "    return False\n",
    "\n",
    "    "
   ]
  },
  {
   "cell_type": "code",
   "execution_count": 4,
   "metadata": {},
   "outputs": [],
   "source": [
    "hands = mp.solutions.hands\n",
    "hand = hands.Hands(min_detection_confidence=0.1, min_tracking_confidence=0.1)\n",
    "drawFunc = mp.solutions.drawing_utils\n",
    "\n"
   ]
  },
  {
   "attachments": {},
   "cell_type": "markdown",
   "metadata": {},
   "source": [
    "HandLandmarks I want are 5,13,9,17\n",
    "PoseLandmarks I want are 11,13,12,14\n"
   ]
  },
  {
   "cell_type": "code",
   "execution_count": 5,
   "metadata": {},
   "outputs": [],
   "source": [
    "def seeHandLandmarks(vals : list [int],img,resultsHand):\n",
    "    for i in vals:\n",
    "        if resultsHand.multi_hand_landmarks and i < len(resultsHand.multi_hand_landmarks):\n",
    "            drawFunc.draw_landmarks(img, resultsHand.multi_hand_landmarks[i], mp.solutions.hands.HAND_CONNECTIONS)\n",
    "            \n",
    "\n"
   ]
  },
  {
   "cell_type": "code",
   "execution_count": 25,
   "metadata": {},
   "outputs": [
    {
     "name": "stdout",
     "output_type": "stream",
     "text": [
      "True\n",
      "True\n",
      "True\n",
      "True\n",
      "True\n",
      "True\n",
      "True\n",
      "True\n",
      "True\n",
      "True\n",
      "True\n",
      "True\n",
      "True\n",
      "True\n",
      "True\n",
      "True\n",
      "True\n",
      "True\n",
      "True\n",
      "True\n",
      "True\n",
      "True\n",
      "True\n",
      "True\n"
     ]
    }
   ],
   "source": [
    "cap = cv2.VideoCapture(0)\n",
    "cap.set(3, 640)\n",
    "cap.set(4, 480)\n",
    "while True:\n",
    "    success, img = cap.read()\n",
    "    img = cv2.flip(img, 1)\n",
    "    \n",
    "    imgRGB = cv2.cvtColor(img, cv2.COLOR_BGR2RGB) # convert the image from BGR to RGB\n",
    "    resultsHand = hand.process(imgRGB) # process the image\n",
    "    if resultsHand.multi_hand_landmarks:\n",
    "        for handLms in resultsHand.multi_hand_landmarks:\n",
    "            drawFunc.draw_landmarks(img, handLms, mp.solutions.hands.HAND_CONNECTIONS)\n",
    "    rad = rad + radiusImcrement\n",
    "    if OnOff==1:\n",
    "        drawBall(img,(pos[0],pos[1]),int(rad))\n",
    "    if rad>35:\n",
    "        radiusImcrement = -1*(radiusImcrement)\n",
    "    if rad<5:\n",
    "        radiusImcrement = -1*(radiusImcrement)\n",
    "        OnOff = (-1)*(OnOff)\n",
    "        reset()\n",
    "\n",
    "    drawStumps(img,stumpsTopLeft,stumpsBottomRight)\n",
    "    \n",
    "    # print(checkInStumps((pos[0],pos[1]),OnOff,stumpsTopLeft,stumpsBottomRight))\n",
    "    if checkInStumps((pos[0],pos[1]),OnOff,stumpsTopLeft,stumpsBottomRight):\n",
    "        print(True)\n",
    "    cv2.imshow(\"Video\", img)\n",
    "    if cv2.waitKey(1) & 0xFF == ord('q'):\n",
    "        break\n",
    "cap.release()\n",
    "cv2.destroyAllWindows()"
   ]
  },
  {
   "cell_type": "code",
   "execution_count": null,
   "metadata": {},
   "outputs": [],
   "source": []
  }
 ],
 "metadata": {
  "kernelspec": {
   "display_name": "Python 3",
   "language": "python",
   "name": "python3"
  },
  "language_info": {
   "codemirror_mode": {
    "name": "ipython",
    "version": 3
   },
   "file_extension": ".py",
   "mimetype": "text/x-python",
   "name": "python",
   "nbconvert_exporter": "python",
   "pygments_lexer": "ipython3",
   "version": "3.10.6"
  },
  "orig_nbformat": 4
 },
 "nbformat": 4,
 "nbformat_minor": 2
}
