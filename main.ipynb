{
 "cells": [
  {
   "cell_type": "markdown",
   "metadata": {},
   "source": [
    "Importing libraries"
   ]
  },
  {
   "cell_type": "code",
   "execution_count": 1,
   "metadata": {},
   "outputs": [],
   "source": [
    "import cv2\n",
    "import random\n",
    "import mediapipe as mp"
   ]
  },
  {
   "cell_type": "markdown",
   "metadata": {},
   "source": [
    "Declaring Global Variables"
   ]
  },
  {
   "cell_type": "code",
   "execution_count": 15,
   "metadata": {},
   "outputs": [],
   "source": [
    "rad = 5\n",
    "radiusImcrement = 3 \n",
    "pos = [100,100]\n",
    "OnOff = 1 # -1 means ball is not drawing and 1 means ball is drawing\n",
    "timer = 0\n",
    "timer1 = 0\n",
    "stumpsTopLeft = (300,300);\n",
    "stumpsBottomRight = (380,480);\n",
    "color = (0,0,255)\n",
    "Xdirection = 640\n",
    "Ydirection = 480"
   ]
  },
  {
   "cell_type": "markdown",
   "metadata": {},
   "source": [
    "Functions"
   ]
  },
  {
   "cell_type": "code",
   "execution_count": 3,
   "metadata": {},
   "outputs": [],
   "source": [
    "def drawBall(img,centerTuple,radi, color)->None:\n",
    "    cv2.circle(img,centerTuple,radi,color,cv2.FILLED)\n",
    "\n",
    "def generateRandomCordinates():\n",
    "    return (random.randint(0,500),random.randint(0,450))\n",
    "\n",
    "def reset(onOff,rad):\n",
    "    pos[0],pos[1] = generateRandomCordinates()\n",
    "    onOff = (-1)*onOff\n",
    "    pass\n",
    "\n",
    "def drawStumps(img, topLeft, bottomRight):\n",
    "    cv2.rectangle(img,topLeft,bottomRight, (0,255,0), 5)\n",
    "\n",
    "def checkInStumps(centreTuple, onOff, topLeft, bottomRight):\n",
    "    if onOff == -1:\n",
    "        if centreTuple[0] > topLeft[0] and centreTuple[0] < bottomRight[0]:\n",
    "            if centreTuple[1] > topLeft[1] and centreTuple[1] < bottomRight[1]:\n",
    "                return True\n",
    "    return False\n",
    "\n",
    "def averageOfHand(handLms, img):\n",
    "    sumX = 0\n",
    "    sumY = 0\n",
    "    for i in [5,9,13,17,0]:\n",
    "        sumX = sumX + handLms.landmark[i].x\n",
    "        sumY = sumY + handLms.landmark[i].y\n",
    "    sumX = sumX/5\n",
    "    sumY = sumY/5\n",
    "    cv2.circle(img,(int(sumX*640),int(sumY*480)),5,(0,0,255),cv2.FILLED)\n",
    "    return (int(sumX*640),int(sumY*480))\n",
    "\n",
    "def checkForBall(handCenterTuple, onOff, ballCenter, ballRadius):\n",
    "    if onOff == 1:\n",
    "        if handCenterTuple[0] > ballCenter[0] - ballRadius and handCenterTuple[0] < ballCenter[0] + ballRadius:\n",
    "            if handCenterTuple[1] > ballCenter[1] - ballRadius and handCenterTuple[1] < ballCenter[1] + ballRadius:\n",
    "                return True\n",
    "    return False\n",
    "    "
   ]
  },
  {
   "cell_type": "code",
   "execution_count": 4,
   "metadata": {},
   "outputs": [],
   "source": [
    "hands = mp.solutions.hands\n",
    "hand = hands.Hands(min_detection_confidence=0.5, min_tracking_confidence=0.5)\n",
    "drawFunc = mp.solutions.drawing_utils\n"
   ]
  },
  {
   "cell_type": "code",
   "execution_count": 16,
   "metadata": {},
   "outputs": [
    {
     "name": "stdout",
     "output_type": "stream",
     "text": [
      "0\n",
      "HIT\n",
      "1\n",
      "1\n",
      "1\n",
      "1\n",
      "1\n",
      "1\n",
      "HIT\n"
     ]
    }
   ],
   "source": [
    "cap = cv2.VideoCapture(0)\n",
    "cap.set(3, Xdirection)\n",
    "cap.set(4, Ydirection)\n",
    "score = 0\n",
    "point = 0\n",
    "while True:\n",
    "    success, img = cap.read()\n",
    "    img = cv2.flip(img, 1)\n",
    "    \n",
    "    imgRGB = cv2.cvtColor(img, cv2.COLOR_BGR2RGB) \n",
    "    resultsHand = hand.process(imgRGB) \n",
    "    if resultsHand.multi_hand_landmarks:\n",
    "        for handLms in resultsHand.multi_hand_landmarks:\n",
    "            try:\n",
    "                xVal , yVal = averageOfHand(handLms,img)\n",
    "                catch = True \n",
    "            except:\n",
    "                catch = False\n",
    "            \n",
    "            if catch==False:\n",
    "                xVal, yVal = 0,0\n",
    "            if(checkForBall((xVal,yVal),OnOff,pos,rad)): \n",
    "                print(score)\n",
    "                color = (0,255,0)\n",
    "                rad = 8\n",
    "                OnOff = -1\n",
    "                point = 48\n",
    "            else:\n",
    "                color = (0,255,255)\n",
    "                \n",
    "            if(point>3):\n",
    "                point = point -4\n",
    "            \n",
    "            cv2.putText(img,'Score '+ str(score), (10, 70), cv2.FONT_HERSHEY_PLAIN, 3, (255, 0, 0), 3)\n",
    "            cv2.putText(img,'Time '+ str(point), (10, 100), cv2.FONT_HERSHEY_PLAIN, 3, (0, 255, 0), 3)\n",
    "            if(point>0):\n",
    "                if(checkInStumps((xVal,yVal),OnOff,stumpsTopLeft,stumpsBottomRight)):\n",
    "                        score = score + 1\n",
    "                        print(\"HIT\")\n",
    "                        point = 0\n",
    "\n",
    "            drawFunc.draw_landmarks(img, handLms, mp.solutions.hands.HAND_CONNECTIONS)\n",
    "\n",
    "    rad = rad + radiusImcrement\n",
    "    if OnOff==1:\n",
    "        drawBall(img,(pos[0],pos[1]),int(rad),color)\n",
    "    if rad>35:\n",
    "        radiusImcrement = -1*(radiusImcrement)\n",
    "    if rad<5:\n",
    "        radiusImcrement = -1*(radiusImcrement)\n",
    "        OnOff = (-1)*(OnOff)\n",
    "        reset(onOff=OnOff,rad=rad)\n",
    "\n",
    "    drawStumps(img,stumpsTopLeft,stumpsBottomRight)\n",
    "    cv2.imshow(\"Video\", img)\n",
    "    if cv2.waitKey(1) & 0xFF == ord('q'):\n",
    "        break\n",
    "cap.release()\n",
    "cv2.destroyAllWindows()"
   ]
  },
  {
   "cell_type": "code",
   "execution_count": null,
   "metadata": {},
   "outputs": [],
   "source": []
  }
 ],
 "metadata": {
  "kernelspec": {
   "display_name": "Python 3",
   "language": "python",
   "name": "python3"
  },
  "language_info": {
   "codemirror_mode": {
    "name": "ipython",
    "version": 3
   },
   "file_extension": ".py",
   "mimetype": "text/x-python",
   "name": "python",
   "nbconvert_exporter": "python",
   "pygments_lexer": "ipython3",
   "version": "3.10.6"
  },
  "orig_nbformat": 4
 },
 "nbformat": 4,
 "nbformat_minor": 2
}
