{
 "cells": [
  {
   "cell_type": "code",
   "execution_count": 10,
   "metadata": {},
   "outputs": [],
   "source": [
    "import cv2\n",
    "import os\n",
    "import random\n",
    "import mediapipe as mp"
   ]
  },
  {
   "cell_type": "code",
   "execution_count": 11,
   "metadata": {},
   "outputs": [],
   "source": [
    "# global variables\n",
    "rad = 5\n",
    "radiusImcrement = 3\n",
    "pos = [100,100]\n",
    "OnOff = 1 # -1 means ball is not drawing and 1 means ball is drawing\n",
    "timer = 0\n",
    "timer1 = 0"
   ]
  },
  {
   "cell_type": "code",
   "execution_count": 12,
   "metadata": {},
   "outputs": [],
   "source": [
    "def drawBall(img,centerTuple,radi)->None:\n",
    "    cv2.circle(img,centerTuple,radi,(0,0,255),cv2.FILLED)\n",
    "\n",
    "def generateRandomCordinates():\n",
    "    return (random.randint(0,500),random.randint(0,450))\n",
    "\n",
    "def reset():\n",
    "    pos[0],pos[1] = generateRandomCordinates()\n",
    "    pass\n",
    "\n"
   ]
  },
  {
   "cell_type": "code",
   "execution_count": 13,
   "metadata": {},
   "outputs": [],
   "source": [
    "hands = mp.solutions.hands\n",
    "hand = hands.Hands(min_detection_confidence=0.1, min_tracking_confidence=0.1)\n",
    "drawFunc = mp.solutions.drawing_utils\n"
   ]
  },
  {
   "cell_type": "code",
   "execution_count": 15,
   "metadata": {},
   "outputs": [],
   "source": [
    "cap = cv2.VideoCapture(0)\n",
    "cap.set(3, 640)\n",
    "cap.set(4, 480)\n",
    "while True:\n",
    "    success, img = cap.read()\n",
    "    # flip the camera\n",
    "    img = cv2.flip(img, 1)\n",
    "    \n",
    "    imgRGB = cv2.cvtColor(img, cv2.COLOR_BGR2RGB) # convert the image from BGR to RGB\n",
    "    results = hand.process(imgRGB) # process the image\n",
    "    if results.multi_hand_landmarks: # if there are hands in the image\n",
    "        for handLms in results.multi_hand_landmarks: # for each hand\n",
    "            drawFunc.draw_landmarks(img, handLms, mp.solutions.hands.HAND_CONNECTIONS) # draw the landmarks on the image\n",
    "\n",
    "    rad = rad + radiusImcrement\n",
    "    if OnOff==1:\n",
    "        drawBall(img,(pos[0],pos[1]),int(rad))\n",
    "    if rad>35:\n",
    "        radiusImcrement = -1*(radiusImcrement)\n",
    "        # reset()\n",
    "    if rad<5:\n",
    "        radiusImcrement = -1*(radiusImcrement)\n",
    "        OnOff = (-1)*(OnOff)\n",
    "        reset()\n",
    "\n",
    "    cv2.imshow(\"Video\", img)\n",
    "    if cv2.waitKey(1) & 0xFF == ord('q'):\n",
    "        break\n",
    "cap.release()\n",
    "cv2.destroyAllWindows()"
   ]
  },
  {
   "cell_type": "code",
   "execution_count": null,
   "metadata": {},
   "outputs": [],
   "source": []
  }
 ],
 "metadata": {
  "kernelspec": {
   "display_name": "Python 3",
   "language": "python",
   "name": "python3"
  },
  "language_info": {
   "codemirror_mode": {
    "name": "ipython",
    "version": 3
   },
   "file_extension": ".py",
   "mimetype": "text/x-python",
   "name": "python",
   "nbconvert_exporter": "python",
   "pygments_lexer": "ipython3",
   "version": "3.10.6"
  },
  "orig_nbformat": 4
 },
 "nbformat": 4,
 "nbformat_minor": 2
}
