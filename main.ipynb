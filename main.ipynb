{
 "cells": [
  {
   "cell_type": "code",
   "execution_count": 80,
   "metadata": {},
   "outputs": [],
   "source": [
    "import cv2\n",
    "import os\n",
    "import random"
   ]
  },
  {
   "cell_type": "code",
   "execution_count": 81,
   "metadata": {},
   "outputs": [],
   "source": [
    "# global variables\n",
    "rad = 5\n",
    "radiusImcrement = 3\n",
    "pos = [100,100]\n",
    "inc = 0"
   ]
  },
  {
   "cell_type": "code",
   "execution_count": 82,
   "metadata": {},
   "outputs": [],
   "source": [
    "def drawBall(img,centerTuple,radi)->None:\n",
    "    cv2.circle(img,centerTuple,radi,(0,0,255),cv2.FILLED)\n",
    "\n",
    "def generateRandomCordinates():\n",
    "    return (random.randint(0,500),random.randint(0,450))\n",
    "\n",
    "def reset():\n",
    "    pos[0],pos[1] = generateRandomCordinates()\n",
    "    pass\n",
    "\n"
   ]
  },
  {
   "cell_type": "code",
   "execution_count": 83,
   "metadata": {},
   "outputs": [],
   "source": [
    "cap = cv2.VideoCapture(0)\n",
    "cap.set(3, 640)\n",
    "cap.set(4, 480)\n",
    "while True:\n",
    "    success, img = cap.read()\n",
    "    rad = rad + radiusImcrement\n",
    "    drawBall(img,(pos[0],pos[1]),int(rad))\n",
    "    if rad>35:\n",
    "        radiusImcrement = -1*(radiusImcrement)\n",
    "        # reset()\n",
    "    if rad<5:\n",
    "        radiusImcrement = -1*(radiusImcrement)\n",
    "        reset()\n",
    "    cv2.imshow(\"Video\", img)\n",
    "    if cv2.waitKey(1) & 0xFF == ord('q'):\n",
    "        break\n",
    "cap.release()\n",
    "cv2.destroyAllWindows()"
   ]
  },
  {
   "cell_type": "code",
   "execution_count": null,
   "metadata": {},
   "outputs": [],
   "source": []
  }
 ],
 "metadata": {
  "kernelspec": {
   "display_name": "Python 3",
   "language": "python",
   "name": "python3"
  },
  "language_info": {
   "codemirror_mode": {
    "name": "ipython",
    "version": 3
   },
   "file_extension": ".py",
   "mimetype": "text/x-python",
   "name": "python",
   "nbconvert_exporter": "python",
   "pygments_lexer": "ipython3",
   "version": "3.10.6"
  },
  "orig_nbformat": 4
 },
 "nbformat": 4,
 "nbformat_minor": 2
}
